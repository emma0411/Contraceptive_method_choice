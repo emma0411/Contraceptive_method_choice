{
 "cells": [
  {
   "cell_type": "markdown",
   "metadata": {
    "id": "XXTLvfZcZvb_"
   },
   "source": [
    "# Modelos Contraceptive Method\n",
    "\n",
    "### Emma Amorós Belda\n",
    "\n",
    "##### Dataset: Dua, D. and Graff, C. (2019). UCI Machine Learning Repository [http://archive.ics.uci.edu/ml]. Irvine, CA: University of California, School of Information and Computer Science."
   ]
  },
  {
   "cell_type": "markdown",
   "metadata": {},
   "source": [
    "En este documento entrenamos modelos para realizar la clasificación del Método anticonceptivo que emplea la mujer, en base a los resultados obtenidos en Contraceptive_AED.ipynb"
   ]
  },
  {
   "cell_type": "code",
   "execution_count": 1,
   "metadata": {
    "executionInfo": {
     "elapsed": 3718,
     "status": "ok",
     "timestamp": 1620650935076,
     "user": {
      "displayName": "Emma Amorós",
      "photoUrl": "",
      "userId": "13473672011848262140"
     },
     "user_tz": -120
    },
    "id": "bFuiGKd_a6pX"
   },
   "outputs": [],
   "source": [
    "import pandas as pd\n",
    "import numpy as np\n",
    "import matplotlib.pyplot as plt\n",
    "import seaborn as sns\n",
    "\n",
    "from sklearn.cluster import KMeans\n",
    "from sklearn.preprocessing import OrdinalEncoder\n",
    "from sklearn.linear_model import LogisticRegression\n",
    "from sklearn.ensemble import RandomForestClassifier\n",
    "from sklearn.svm import SVC\n",
    "from sklearn.ensemble import AdaBoostClassifier\n",
    "from sklearn.tree import DecisionTreeClassifier\n",
    "from sklearn.model_selection import train_test_split\n",
    "from sklearn.model_selection import GridSearchCV\n",
    "from sklearn.inspection import permutation_importance\n",
    "from sklearn.metrics import classification_report\n",
    "from sklearn.metrics import confusion_matrix\n",
    "from sklearn.ensemble import GradientBoostingClassifier\n",
    "import multiprocessing"
   ]
  },
  {
   "cell_type": "code",
   "execution_count": 5,
   "metadata": {
    "colab": {
     "base_uri": "https://localhost:8080/",
     "height": 402
    },
    "executionInfo": {
     "elapsed": 1504,
     "status": "ok",
     "timestamp": 1620650956219,
     "user": {
      "displayName": "Emma Amorós",
      "photoUrl": "",
      "userId": "13473672011848262140"
     },
     "user_tz": -120
    },
    "id": "rYNYu9jOayhC",
    "outputId": "6d50dad4-c110-46e5-ee8b-9d1b09fdfdf0"
   },
   "outputs": [
    {
     "name": "stdout",
     "output_type": "stream",
     "text": [
      "(1473, 10)\n"
     ]
    }
   ],
   "source": [
    "data = pd.read_csv(\"./data/cmc.data\", delimiter=\",\", header = None, \n",
    "                   names = ['Age', 'Education', 'Husband_education', 'Children', 'Religion', 'Work', 'Husband_work',\n",
    "                           'Living_index', 'Media_exposure', 'Contraceptive'])\n",
    "print(data.shape)"
   ]
  },
  {
   "cell_type": "markdown",
   "metadata": {
    "id": "tgdwkcByRcVI"
   },
   "source": [
    "Asignamos ordenación a las variables categóricas ordinales y realizamos one-hot-encoding con aquellas que no tienen orden. Las binarias con que sean 0 y 1 es suficiente"
   ]
  },
  {
   "cell_type": "code",
   "execution_count": 6,
   "metadata": {
    "executionInfo": {
     "elapsed": 707,
     "status": "ok",
     "timestamp": 1620650960429,
     "user": {
      "displayName": "Emma Amorós",
      "photoUrl": "",
      "userId": "13473672011848262140"
     },
     "user_tz": -120
    },
    "id": "mJ0pHQXcRkpV"
   },
   "outputs": [],
   "source": [
    "# categóricas ordinales: les asignamos el orden\n",
    "\n",
    "ordinales = ['Education', 'Husband_education', 'Living_index']\n",
    "\n",
    "encoder = OrdinalEncoder(categories = [['1','2','3','4']])\n",
    "\n",
    "for i in ordinales:\n",
    "  #data[i] = pd.Categorical(data[i], categories = ['1','2','3','4'])\n",
    "  encoder.fit(data[[i]])\n",
    "  data[i] = encoder.transform(data[[i]])\n",
    "\n",
    "# no ordenadas: one hot encoding \n",
    "\n",
    "Husband_work_oh = pd.get_dummies(data['Husband_work'], prefix = 'Husband_work')\n",
    "data = data.join(Husband_work_oh)\n",
    "\n",
    "del data['Husband_work']\n"
   ]
  },
  {
   "cell_type": "code",
   "execution_count": 7,
   "metadata": {
    "colab": {
     "base_uri": "https://localhost:8080/",
     "height": 422
    },
    "executionInfo": {
     "elapsed": 517,
     "status": "ok",
     "timestamp": 1620250060052,
     "user": {
      "displayName": "Emma Amorós",
      "photoUrl": "",
      "userId": "13473672011848262140"
     },
     "user_tz": -120
    },
    "id": "BqUcGAgQbMNV",
    "outputId": "6e06adb0-28e9-4344-bd81-27710ef2a04a"
   },
   "outputs": [
    {
     "data": {
      "text/html": [
       "<div>\n",
       "<style scoped>\n",
       "    .dataframe tbody tr th:only-of-type {\n",
       "        vertical-align: middle;\n",
       "    }\n",
       "\n",
       "    .dataframe tbody tr th {\n",
       "        vertical-align: top;\n",
       "    }\n",
       "\n",
       "    .dataframe thead th {\n",
       "        text-align: right;\n",
       "    }\n",
       "</style>\n",
       "<table border=\"1\" class=\"dataframe\">\n",
       "  <thead>\n",
       "    <tr style=\"text-align: right;\">\n",
       "      <th></th>\n",
       "      <th>Age</th>\n",
       "      <th>Education</th>\n",
       "      <th>Husband_education</th>\n",
       "      <th>Children</th>\n",
       "      <th>Religion</th>\n",
       "      <th>Work</th>\n",
       "      <th>Living_index</th>\n",
       "      <th>Media_exposure</th>\n",
       "      <th>Contraceptive</th>\n",
       "      <th>Husband_work_1</th>\n",
       "      <th>Husband_work_2</th>\n",
       "      <th>Husband_work_3</th>\n",
       "      <th>Husband_work_4</th>\n",
       "    </tr>\n",
       "  </thead>\n",
       "  <tbody>\n",
       "    <tr>\n",
       "      <th>0</th>\n",
       "      <td>24</td>\n",
       "      <td>1.0</td>\n",
       "      <td>2.0</td>\n",
       "      <td>3</td>\n",
       "      <td>1</td>\n",
       "      <td>1</td>\n",
       "      <td>2.0</td>\n",
       "      <td>0</td>\n",
       "      <td>1</td>\n",
       "      <td>0</td>\n",
       "      <td>1</td>\n",
       "      <td>0</td>\n",
       "      <td>0</td>\n",
       "    </tr>\n",
       "    <tr>\n",
       "      <th>1</th>\n",
       "      <td>45</td>\n",
       "      <td>0.0</td>\n",
       "      <td>2.0</td>\n",
       "      <td>10</td>\n",
       "      <td>1</td>\n",
       "      <td>1</td>\n",
       "      <td>3.0</td>\n",
       "      <td>0</td>\n",
       "      <td>1</td>\n",
       "      <td>0</td>\n",
       "      <td>0</td>\n",
       "      <td>1</td>\n",
       "      <td>0</td>\n",
       "    </tr>\n",
       "    <tr>\n",
       "      <th>2</th>\n",
       "      <td>43</td>\n",
       "      <td>1.0</td>\n",
       "      <td>2.0</td>\n",
       "      <td>7</td>\n",
       "      <td>1</td>\n",
       "      <td>1</td>\n",
       "      <td>3.0</td>\n",
       "      <td>0</td>\n",
       "      <td>1</td>\n",
       "      <td>0</td>\n",
       "      <td>0</td>\n",
       "      <td>1</td>\n",
       "      <td>0</td>\n",
       "    </tr>\n",
       "    <tr>\n",
       "      <th>3</th>\n",
       "      <td>42</td>\n",
       "      <td>2.0</td>\n",
       "      <td>1.0</td>\n",
       "      <td>9</td>\n",
       "      <td>1</td>\n",
       "      <td>1</td>\n",
       "      <td>2.0</td>\n",
       "      <td>0</td>\n",
       "      <td>1</td>\n",
       "      <td>0</td>\n",
       "      <td>0</td>\n",
       "      <td>1</td>\n",
       "      <td>0</td>\n",
       "    </tr>\n",
       "    <tr>\n",
       "      <th>4</th>\n",
       "      <td>36</td>\n",
       "      <td>2.0</td>\n",
       "      <td>2.0</td>\n",
       "      <td>8</td>\n",
       "      <td>1</td>\n",
       "      <td>1</td>\n",
       "      <td>1.0</td>\n",
       "      <td>0</td>\n",
       "      <td>1</td>\n",
       "      <td>0</td>\n",
       "      <td>0</td>\n",
       "      <td>1</td>\n",
       "      <td>0</td>\n",
       "    </tr>\n",
       "    <tr>\n",
       "      <th>...</th>\n",
       "      <td>...</td>\n",
       "      <td>...</td>\n",
       "      <td>...</td>\n",
       "      <td>...</td>\n",
       "      <td>...</td>\n",
       "      <td>...</td>\n",
       "      <td>...</td>\n",
       "      <td>...</td>\n",
       "      <td>...</td>\n",
       "      <td>...</td>\n",
       "      <td>...</td>\n",
       "      <td>...</td>\n",
       "      <td>...</td>\n",
       "    </tr>\n",
       "    <tr>\n",
       "      <th>1468</th>\n",
       "      <td>33</td>\n",
       "      <td>3.0</td>\n",
       "      <td>3.0</td>\n",
       "      <td>2</td>\n",
       "      <td>1</td>\n",
       "      <td>0</td>\n",
       "      <td>3.0</td>\n",
       "      <td>0</td>\n",
       "      <td>3</td>\n",
       "      <td>0</td>\n",
       "      <td>1</td>\n",
       "      <td>0</td>\n",
       "      <td>0</td>\n",
       "    </tr>\n",
       "    <tr>\n",
       "      <th>1469</th>\n",
       "      <td>33</td>\n",
       "      <td>3.0</td>\n",
       "      <td>3.0</td>\n",
       "      <td>3</td>\n",
       "      <td>1</td>\n",
       "      <td>1</td>\n",
       "      <td>3.0</td>\n",
       "      <td>0</td>\n",
       "      <td>3</td>\n",
       "      <td>1</td>\n",
       "      <td>0</td>\n",
       "      <td>0</td>\n",
       "      <td>0</td>\n",
       "    </tr>\n",
       "    <tr>\n",
       "      <th>1470</th>\n",
       "      <td>39</td>\n",
       "      <td>2.0</td>\n",
       "      <td>2.0</td>\n",
       "      <td>8</td>\n",
       "      <td>1</td>\n",
       "      <td>0</td>\n",
       "      <td>3.0</td>\n",
       "      <td>0</td>\n",
       "      <td>3</td>\n",
       "      <td>1</td>\n",
       "      <td>0</td>\n",
       "      <td>0</td>\n",
       "      <td>0</td>\n",
       "    </tr>\n",
       "    <tr>\n",
       "      <th>1471</th>\n",
       "      <td>33</td>\n",
       "      <td>2.0</td>\n",
       "      <td>2.0</td>\n",
       "      <td>4</td>\n",
       "      <td>1</td>\n",
       "      <td>0</td>\n",
       "      <td>1.0</td>\n",
       "      <td>0</td>\n",
       "      <td>3</td>\n",
       "      <td>0</td>\n",
       "      <td>1</td>\n",
       "      <td>0</td>\n",
       "      <td>0</td>\n",
       "    </tr>\n",
       "    <tr>\n",
       "      <th>1472</th>\n",
       "      <td>17</td>\n",
       "      <td>2.0</td>\n",
       "      <td>2.0</td>\n",
       "      <td>1</td>\n",
       "      <td>1</td>\n",
       "      <td>1</td>\n",
       "      <td>3.0</td>\n",
       "      <td>0</td>\n",
       "      <td>3</td>\n",
       "      <td>0</td>\n",
       "      <td>1</td>\n",
       "      <td>0</td>\n",
       "      <td>0</td>\n",
       "    </tr>\n",
       "  </tbody>\n",
       "</table>\n",
       "<p>1473 rows × 13 columns</p>\n",
       "</div>"
      ],
      "text/plain": [
       "      Age  Education  Husband_education  Children  Religion  Work  \\\n",
       "0      24        1.0                2.0         3         1     1   \n",
       "1      45        0.0                2.0        10         1     1   \n",
       "2      43        1.0                2.0         7         1     1   \n",
       "3      42        2.0                1.0         9         1     1   \n",
       "4      36        2.0                2.0         8         1     1   \n",
       "...   ...        ...                ...       ...       ...   ...   \n",
       "1468   33        3.0                3.0         2         1     0   \n",
       "1469   33        3.0                3.0         3         1     1   \n",
       "1470   39        2.0                2.0         8         1     0   \n",
       "1471   33        2.0                2.0         4         1     0   \n",
       "1472   17        2.0                2.0         1         1     1   \n",
       "\n",
       "      Living_index  Media_exposure  Contraceptive  Husband_work_1  \\\n",
       "0              2.0               0              1               0   \n",
       "1              3.0               0              1               0   \n",
       "2              3.0               0              1               0   \n",
       "3              2.0               0              1               0   \n",
       "4              1.0               0              1               0   \n",
       "...            ...             ...            ...             ...   \n",
       "1468           3.0               0              3               0   \n",
       "1469           3.0               0              3               1   \n",
       "1470           3.0               0              3               1   \n",
       "1471           1.0               0              3               0   \n",
       "1472           3.0               0              3               0   \n",
       "\n",
       "      Husband_work_2  Husband_work_3  Husband_work_4  \n",
       "0                  1               0               0  \n",
       "1                  0               1               0  \n",
       "2                  0               1               0  \n",
       "3                  0               1               0  \n",
       "4                  0               1               0  \n",
       "...              ...             ...             ...  \n",
       "1468               1               0               0  \n",
       "1469               0               0               0  \n",
       "1470               0               0               0  \n",
       "1471               1               0               0  \n",
       "1472               1               0               0  \n",
       "\n",
       "[1473 rows x 13 columns]"
      ]
     },
     "execution_count": 7,
     "metadata": {},
     "output_type": "execute_result"
    }
   ],
   "source": [
    "data"
   ]
  },
  {
   "cell_type": "markdown",
   "metadata": {
    "id": "BGZHB9KFbsiE"
   },
   "source": [
    "# Train_test_split\n",
    "\n",
    "Dividimos nuestro conjunto de datos en un 80% de train y un 20% para test"
   ]
  },
  {
   "cell_type": "code",
   "execution_count": 8,
   "metadata": {
    "colab": {
     "base_uri": "https://localhost:8080/"
    },
    "executionInfo": {
     "elapsed": 530,
     "status": "ok",
     "timestamp": 1620640574353,
     "user": {
      "displayName": "Emma Amorós",
      "photoUrl": "",
      "userId": "13473672011848262140"
     },
     "user_tz": -120
    },
    "id": "VpCmI4IVbvDp",
    "outputId": "3c581610-2bd8-4785-d286-39493695ab90"
   },
   "outputs": [
    {
     "name": "stdout",
     "output_type": "stream",
     "text": [
      "(1178, 12) (1178,) (295, 12) (295,)\n"
     ]
    }
   ],
   "source": [
    "X = data.drop('Contraceptive', axis = 1)\n",
    "y = data.iloc[:,8]\n",
    "\n",
    "X_train, X_test, y_train, y_test = train_test_split(X, y, test_size = 0.2, random_state = 1234)#,stratify = y)\n",
    "print(X_train.shape, y_train.shape, X_test.shape, y_test.shape)\n"
   ]
  },
  {
   "cell_type": "code",
   "execution_count": 9,
   "metadata": {
    "colab": {
     "base_uri": "https://localhost:8080/",
     "height": 136
    },
    "executionInfo": {
     "elapsed": 369,
     "status": "ok",
     "timestamp": 1620510751598,
     "user": {
      "displayName": "Emma Amorós",
      "photoUrl": "",
      "userId": "13473672011848262140"
     },
     "user_tz": -120
    },
    "id": "AOm2mohUyAw6",
    "outputId": "438f96a6-4347-45e9-db89-7a1bc1bc6bbe"
   },
   "outputs": [
    {
     "data": {
      "text/html": [
       "<div>\n",
       "<style scoped>\n",
       "    .dataframe tbody tr th:only-of-type {\n",
       "        vertical-align: middle;\n",
       "    }\n",
       "\n",
       "    .dataframe tbody tr th {\n",
       "        vertical-align: top;\n",
       "    }\n",
       "\n",
       "    .dataframe thead th {\n",
       "        text-align: right;\n",
       "    }\n",
       "</style>\n",
       "<table border=\"1\" class=\"dataframe\">\n",
       "  <thead>\n",
       "    <tr style=\"text-align: right;\">\n",
       "      <th></th>\n",
       "      <th>Category</th>\n",
       "      <th>Counts</th>\n",
       "      <th>Frecuency</th>\n",
       "    </tr>\n",
       "  </thead>\n",
       "  <tbody>\n",
       "    <tr>\n",
       "      <th>0</th>\n",
       "      <td>1</td>\n",
       "      <td>498</td>\n",
       "      <td>0.338086</td>\n",
       "    </tr>\n",
       "    <tr>\n",
       "      <th>1</th>\n",
       "      <td>2</td>\n",
       "      <td>254</td>\n",
       "      <td>0.172437</td>\n",
       "    </tr>\n",
       "    <tr>\n",
       "      <th>2</th>\n",
       "      <td>3</td>\n",
       "      <td>426</td>\n",
       "      <td>0.289206</td>\n",
       "    </tr>\n",
       "  </tbody>\n",
       "</table>\n",
       "</div>"
      ],
      "text/plain": [
       "   Category  Counts  Frecuency\n",
       "0         1     498   0.338086\n",
       "1         2     254   0.172437\n",
       "2         3     426   0.289206"
      ]
     },
     "execution_count": 9,
     "metadata": {},
     "output_type": "execute_result"
    }
   ],
   "source": [
    "# observamos el número de registros de cada clase a predecir en nuestro conjunto de train\n",
    "freq_class = y_train.value_counts()\n",
    "\n",
    "freq_class = pd.DataFrame(freq_class).sort_index(ascending=True).reset_index()\n",
    "freq_class = freq_class.rename(columns = {'index':'Category', 'Contraceptive':'Counts'})\n",
    "freq_class['Frecuency'] = freq_class['Counts']/data.shape[0]\n",
    "\n",
    "freq_class"
   ]
  },
  {
   "cell_type": "code",
   "execution_count": 10,
   "metadata": {
    "colab": {
     "base_uri": "https://localhost:8080/",
     "height": 136
    },
    "executionInfo": {
     "elapsed": 731,
     "status": "ok",
     "timestamp": 1620510752909,
     "user": {
      "displayName": "Emma Amorós",
      "photoUrl": "",
      "userId": "13473672011848262140"
     },
     "user_tz": -120
    },
    "id": "biUepGletY2E",
    "outputId": "a8266b9f-b407-4003-deeb-d86147ab2d3b"
   },
   "outputs": [
    {
     "data": {
      "text/html": [
       "<div>\n",
       "<style scoped>\n",
       "    .dataframe tbody tr th:only-of-type {\n",
       "        vertical-align: middle;\n",
       "    }\n",
       "\n",
       "    .dataframe tbody tr th {\n",
       "        vertical-align: top;\n",
       "    }\n",
       "\n",
       "    .dataframe thead th {\n",
       "        text-align: right;\n",
       "    }\n",
       "</style>\n",
       "<table border=\"1\" class=\"dataframe\">\n",
       "  <thead>\n",
       "    <tr style=\"text-align: right;\">\n",
       "      <th></th>\n",
       "      <th>Category</th>\n",
       "      <th>Counts</th>\n",
       "      <th>Frecuency</th>\n",
       "    </tr>\n",
       "  </thead>\n",
       "  <tbody>\n",
       "    <tr>\n",
       "      <th>0</th>\n",
       "      <td>1</td>\n",
       "      <td>131</td>\n",
       "      <td>0.088934</td>\n",
       "    </tr>\n",
       "    <tr>\n",
       "      <th>1</th>\n",
       "      <td>2</td>\n",
       "      <td>79</td>\n",
       "      <td>0.053632</td>\n",
       "    </tr>\n",
       "    <tr>\n",
       "      <th>2</th>\n",
       "      <td>3</td>\n",
       "      <td>85</td>\n",
       "      <td>0.057705</td>\n",
       "    </tr>\n",
       "  </tbody>\n",
       "</table>\n",
       "</div>"
      ],
      "text/plain": [
       "   Category  Counts  Frecuency\n",
       "0         1     131   0.088934\n",
       "1         2      79   0.053632\n",
       "2         3      85   0.057705"
      ]
     },
     "execution_count": 10,
     "metadata": {},
     "output_type": "execute_result"
    }
   ],
   "source": [
    "# observamos el número de registros de cada clase a predecir en el conjunto de test\n",
    "freq_class = y_test.value_counts()\n",
    "\n",
    "freq_class = pd.DataFrame(freq_class).sort_index(ascending=True).reset_index()\n",
    "freq_class = freq_class.rename(columns = {'index':'Category', 'Contraceptive':'Counts'})\n",
    "freq_class['Frecuency'] = freq_class['Counts']/data.shape[0]\n",
    "\n",
    "freq_class"
   ]
  },
  {
   "cell_type": "markdown",
   "metadata": {
    "id": "Ez0nNmybmfL6"
   },
   "source": [
    "# Modelos Básicos\n",
    "\n",
    "Podemos aplicar cualquier modelo de clasficación supervisada a nuestro problema.\n",
    "\n",
    "Opciones:\n",
    "\n",
    "1. Knn\n",
    "2. XGBoost\n",
    "3. AdaBoost \n",
    "4. Random Forest\n",
    "5. Decision Tree\n",
    "6. SVM\n",
    "7. Naive Bayes \n",
    "8. Logistic Regression\n",
    "\n",
    "\n",
    "En este primer caso los aplicamos directamente a los datos sin realizar ningún cambio, es decir, le pasamos todos los atributos . \n"
   ]
  },
  {
   "cell_type": "markdown",
   "metadata": {
    "id": "zEkvcKYGoXDl"
   },
   "source": [
    "## Logistic Regression \n",
    "\n",
    "Referencia para clasificaciones binarias. Es nuestro modelo base, el que debe mejorar cualquiera de los siguientes modelos."
   ]
  },
  {
   "cell_type": "code",
   "execution_count": null,
   "metadata": {
    "colab": {
     "base_uri": "https://localhost:8080/"
    },
    "executionInfo": {
     "elapsed": 497,
     "status": "ok",
     "timestamp": 1620288195122,
     "user": {
      "displayName": "Emma Amorós",
      "photoUrl": "",
      "userId": "13473672011848262140"
     },
     "user_tz": -120
    },
    "id": "55etRru2mgr_",
    "outputId": "e9cd08bf-0771-4aba-d3fc-607d4c69fd91"
   },
   "outputs": [
    {
     "name": "stderr",
     "output_type": "stream",
     "text": [
      "/usr/local/lib/python3.7/dist-packages/sklearn/linear_model/_logistic.py:940: ConvergenceWarning: lbfgs failed to converge (status=1):\n",
      "STOP: TOTAL NO. of ITERATIONS REACHED LIMIT.\n",
      "\n",
      "Increase the number of iterations (max_iter) or scale the data as shown in:\n",
      "    https://scikit-learn.org/stable/modules/preprocessing.html\n",
      "Please also refer to the documentation for alternative solver options:\n",
      "    https://scikit-learn.org/stable/modules/linear_model.html#logistic-regression\n",
      "  extra_warning_msg=_LOGISTIC_SOLVER_CONVERGENCE_MSG)\n"
     ]
    },
    {
     "data": {
      "text/plain": [
       "0.49745331069609505"
      ]
     },
     "execution_count": 38,
     "metadata": {
      "tags": []
     },
     "output_type": "execute_result"
    }
   ],
   "source": [
    "regresion_logistica = LogisticRegression()\n",
    "regresion_logistica.fit(X_train,y_train)\n",
    "regresion_logistica.score(X_train,y_train)"
   ]
  },
  {
   "cell_type": "code",
   "execution_count": null,
   "metadata": {
    "colab": {
     "base_uri": "https://localhost:8080/"
    },
    "executionInfo": {
     "elapsed": 485,
     "status": "ok",
     "timestamp": 1620288196447,
     "user": {
      "displayName": "Emma Amorós",
      "photoUrl": "",
      "userId": "13473672011848262140"
     },
     "user_tz": -120
    },
    "id": "GgbC24zaqAUZ",
    "outputId": "c2f7c311-4e20-444b-9327-c1ea5d5203e5"
   },
   "outputs": [
    {
     "data": {
      "text/plain": [
       "0.5627118644067797"
      ]
     },
     "execution_count": 39,
     "metadata": {
      "tags": []
     },
     "output_type": "execute_result"
    }
   ],
   "source": [
    "regresion_logistica.score(X_test, y_test)"
   ]
  },
  {
   "cell_type": "code",
   "execution_count": null,
   "metadata": {
    "colab": {
     "base_uri": "https://localhost:8080/"
    },
    "executionInfo": {
     "elapsed": 334,
     "status": "ok",
     "timestamp": 1620288197537,
     "user": {
      "displayName": "Emma Amorós",
      "photoUrl": "",
      "userId": "13473672011848262140"
     },
     "user_tz": -120
    },
    "id": "4CIxA75tqfbN",
    "outputId": "ad0355ac-3815-4886-8cc9-3885f048bbda"
   },
   "outputs": [
    {
     "name": "stdout",
     "output_type": "stream",
     "text": [
      "              precision    recall  f1-score   support\n",
      "\n",
      "           1       0.66      0.69      0.68       131\n",
      "           2       0.58      0.32      0.41        79\n",
      "           3       0.43      0.59      0.50        85\n",
      "\n",
      "    accuracy                           0.56       295\n",
      "   macro avg       0.56      0.53      0.53       295\n",
      "weighted avg       0.58      0.56      0.56       295\n",
      "\n"
     ]
    }
   ],
   "source": [
    "predict = regresion_logistica.predict(X_test)\n",
    "print(classification_report(y_test, predict))"
   ]
  },
  {
   "cell_type": "code",
   "execution_count": null,
   "metadata": {
    "colab": {
     "base_uri": "https://localhost:8080/"
    },
    "executionInfo": {
     "elapsed": 515,
     "status": "ok",
     "timestamp": 1620288201560,
     "user": {
      "displayName": "Emma Amorós",
      "photoUrl": "",
      "userId": "13473672011848262140"
     },
     "user_tz": -120
    },
    "id": "LBTajwyIquv6",
    "outputId": "36cce809-0eb9-469c-82dc-5a01dda8af43"
   },
   "outputs": [
    {
     "name": "stdout",
     "output_type": "stream",
     "text": [
      "[[91  6 34]\n",
      " [23 25 31]\n",
      " [23 12 50]]\n"
     ]
    }
   ],
   "source": [
    "conf_matrix = confusion_matrix(y_test, predict)\n",
    "print(conf_matrix)"
   ]
  },
  {
   "cell_type": "code",
   "execution_count": null,
   "metadata": {
    "colab": {
     "base_uri": "https://localhost:8080/",
     "height": 284
    },
    "executionInfo": {
     "elapsed": 1110,
     "status": "ok",
     "timestamp": 1620288204550,
     "user": {
      "displayName": "Emma Amorós",
      "photoUrl": "",
      "userId": "13473672011848262140"
     },
     "user_tz": -120
    },
    "id": "EpipehIOrvJ_",
    "outputId": "d84c01fa-d465-4c9d-ebde-45dbb7bac9ec"
   },
   "outputs": [
    {
     "data": {
      "text/plain": [
       "<matplotlib.axes._subplots.AxesSubplot at 0x7f5e8dd64990>"
      ]
     },
     "execution_count": 42,
     "metadata": {
      "tags": []
     },
     "output_type": "execute_result"
    },
    {
     "data": {
      "image/png": "[encoded data removed]",
      "text/plain": [
       "<Figure size 432x288 with 2 Axes>"
      ]
     },
     "metadata": {
      "needs_background": "light",
      "tags": []
     },
     "output_type": "display_data"
    }
   ],
   "source": [
    "sns.heatmap(conf_matrix, annot= True)"
   ]
  },
  {
   "cell_type": "markdown",
   "metadata": {
    "id": "HL3SPg0-sI16"
   },
   "source": [
    "## Decision Tree"
   ]
  },
  {
   "cell_type": "code",
   "execution_count": null,
   "metadata": {
    "colab": {
     "base_uri": "https://localhost:8080/"
    },
    "executionInfo": {
     "elapsed": 3032,
     "status": "ok",
     "timestamp": 1620640582565,
     "user": {
      "displayName": "Emma Amorós",
      "photoUrl": "",
      "userId": "13473672011848262140"
     },
     "user_tz": -120
    },
    "id": "dDL1p-wvsISr",
    "outputId": "fcb9283a-0f2a-4ada-d0f8-da3fd2f248a1"
   },
   "outputs": [
    {
     "name": "stdout",
     "output_type": "stream",
     "text": [
      "DecisionTreeClassifier(ccp_alpha=0.0, class_weight=None, criterion='gini',\n",
      "                       max_depth=4, max_features='auto', max_leaf_nodes=None,\n",
      "                       min_impurity_decrease=0.0, min_impurity_split=None,\n",
      "                       min_samples_leaf=1, min_samples_split=2,\n",
      "                       min_weight_fraction_leaf=0.0, presort='deprecated',\n",
      "                       random_state=0, splitter='best')\n"
     ]
    }
   ],
   "source": [
    "#Model parameters to try\n",
    "criterio = ['gini', 'entropy']\n",
    "max_depth = [2,3,4,5,6,7]\n",
    "max_features = ['auto', 'log2']\n",
    "splitter = ['best','random']\n",
    "\n",
    "tuned_parameters = {'criterion': criterio, 'max_depth': max_depth, 'max_features': max_features, 'splitter': splitter}\n",
    "\n",
    "\n",
    "# search the best model \n",
    "clf = DecisionTreeClassifier(random_state=0)\n",
    "clf_clf = GridSearchCV(clf, tuned_parameters, cv = 5, n_jobs = -1 , verbose = 0)\n",
    "\n",
    "\n",
    "clf_clf.fit(X_train, y_train)\n",
    "clf_best = clf_clf.best_estimator_\n",
    "print(clf_best)"
   ]
  },
  {
   "cell_type": "code",
   "execution_count": null,
   "metadata": {
    "colab": {
     "base_uri": "https://localhost:8080/"
    },
    "executionInfo": {
     "elapsed": 582,
     "status": "ok",
     "timestamp": 1620640584575,
     "user": {
      "displayName": "Emma Amorós",
      "photoUrl": "",
      "userId": "13473672011848262140"
     },
     "user_tz": -120
    },
    "id": "v0oUf5lTtxMI",
    "outputId": "348b8509-7016-44d8-9871-68669eaf6af6"
   },
   "outputs": [
    {
     "name": "stdout",
     "output_type": "stream",
     "text": [
      "0.530560271646859\n",
      "0.47796610169491527\n"
     ]
    }
   ],
   "source": [
    "print(clf_best.score(X_train,y_train))\n",
    "print(clf_best.score(X_test,y_test))"
   ]
  },
  {
   "cell_type": "code",
   "execution_count": null,
   "metadata": {
    "colab": {
     "base_uri": "https://localhost:8080/",
     "height": 500
    },
    "executionInfo": {
     "elapsed": 657,
     "status": "ok",
     "timestamp": 1620640586386,
     "user": {
      "displayName": "Emma Amorós",
      "photoUrl": "",
      "userId": "13473672011848262140"
     },
     "user_tz": -120
    },
    "id": "hFSP_pEluezK",
    "outputId": "3f13eb8f-11b5-41e7-d116-f5ac8144cfa5"
   },
   "outputs": [
    {
     "name": "stdout",
     "output_type": "stream",
     "text": [
      "              precision    recall  f1-score   support\n",
      "\n",
      "           1       0.60      0.40      0.48       131\n",
      "           2       0.55      0.39      0.46        79\n",
      "           3       0.38      0.67      0.49        85\n",
      "\n",
      "    accuracy                           0.48       295\n",
      "   macro avg       0.51      0.49      0.48       295\n",
      "weighted avg       0.52      0.48      0.48       295\n",
      "\n",
      "[[53 12 66]\n",
      " [21 31 27]\n",
      " [15 13 57]]\n"
     ]
    },
    {
     "data": {
      "text/plain": [
       "<matplotlib.axes._subplots.AxesSubplot at 0x7fc26bff8750>"
      ]
     },
     "execution_count": 8,
     "metadata": {
      "tags": []
     },
     "output_type": "execute_result"
    },
    {
     "data": {
      "image/png": "[encoded data removed]",
      "text/plain": [
       "<Figure size 432x288 with 2 Axes>"
      ]
     },
     "metadata": {
      "needs_background": "light",
      "tags": []
     },
     "output_type": "display_data"
    }
   ],
   "source": [
    "# predecimos en test y evaluamos métricas y vemos la matriz de confusión\n",
    "\n",
    "predict = clf_best.predict(X_test)\n",
    "print(classification_report(y_test, predict))\n",
    "\n",
    "conf_matrix = confusion_matrix(y_test, predict)\n",
    "print(conf_matrix)\n",
    "sns.heatmap(conf_matrix, annot= True)"
   ]
  },
  {
   "cell_type": "markdown",
   "metadata": {
    "id": "Rm1jQPwZu1fv"
   },
   "source": [
    "## Random Forest"
   ]
  },
  {
   "cell_type": "code",
   "execution_count": null,
   "metadata": {
    "colab": {
     "base_uri": "https://localhost:8080/"
    },
    "executionInfo": {
     "elapsed": 618,
     "status": "ok",
     "timestamp": 1620506574733,
     "user": {
      "displayName": "Emma Amorós",
      "photoUrl": "",
      "userId": "13473672011848262140"
     },
     "user_tz": -120
    },
    "id": "gDFTJFlNuzb4",
    "outputId": "b877bb42-7f87-4e19-d7f3-c3a4ba8d45a9"
   },
   "outputs": [
    {
     "name": "stdout",
     "output_type": "stream",
     "text": [
      "0.5673839184597962\n",
      "0.5457627118644067\n"
     ]
    }
   ],
   "source": [
    "rfc = RandomForestClassifier(random_state = 0)\n",
    "\n",
    "#Model parameters to try\n",
    "n_estimators = [50, 100, 150, 200]\n",
    "maxprof = range(2, 5)\n",
    "\n",
    "tuned_parameters = {'n_estimators': n_estimators, 'max_depth': maxprof}  \n",
    "\n",
    "# search the best model \n",
    "clf_rfc = GridSearchCV(rfc, tuned_parameters, cv = 5, n_jobs = -1 , verbose = 0)\n",
    "\n",
    "clf_rfc.fit(X_train, y_train)\n",
    "rf = clf_rfc.best_estimator_\n",
    "print(rf)\n",
    "\n",
    "print(rf.score(X_train, y_train))\n",
    "print(rf.score(X_test, y_test))"
   ]
  },
  {
   "cell_type": "code",
   "execution_count": null,
   "metadata": {
    "colab": {
     "base_uri": "https://localhost:8080/",
     "height": 500
    },
    "executionInfo": {
     "elapsed": 670,
     "status": "ok",
     "timestamp": 1620506581296,
     "user": {
      "displayName": "Emma Amorós",
      "photoUrl": "",
      "userId": "13473672011848262140"
     },
     "user_tz": -120
    },
    "id": "wvtNLDVGvPbs",
    "outputId": "aa3152e4-1382-4beb-a51d-a68d16dce40c"
   },
   "outputs": [
    {
     "name": "stdout",
     "output_type": "stream",
     "text": [
      "              precision    recall  f1-score   support\n",
      "\n",
      "           1       0.71      0.54      0.62       271\n",
      "           2       0.55      0.23      0.33       129\n",
      "           3       0.44      0.76      0.56       190\n",
      "\n",
      "    accuracy                           0.55       590\n",
      "   macro avg       0.57      0.51      0.50       590\n",
      "weighted avg       0.59      0.55      0.53       590\n",
      "\n",
      "[[147  11 113]\n",
      " [ 29  30  70]\n",
      " [ 31  14 145]]\n"
     ]
    },
    {
     "data": {
      "text/plain": [
       "<matplotlib.axes._subplots.AxesSubplot at 0x7fcfc0e9e950>"
      ]
     },
     "execution_count": 30,
     "metadata": {
      "tags": []
     },
     "output_type": "execute_result"
    },
    {
     "data": {
      "image/png": "[encoded data removed]",
      "text/plain": [
       "<Figure size 432x288 with 2 Axes>"
      ]
     },
     "metadata": {
      "needs_background": "light",
      "tags": []
     },
     "output_type": "display_data"
    }
   ],
   "source": [
    "# predecimos en test y evaluamos métricas y vemos la matriz de confusión\n",
    "\n",
    "predict = rf.predict(X_test)\n",
    "print(classification_report(y_test, predict))\n",
    "\n",
    "conf_matrix = confusion_matrix(y_test, predict)\n",
    "print(conf_matrix)\n",
    "sns.heatmap(conf_matrix, annot= True)"
   ]
  },
  {
   "cell_type": "markdown",
   "metadata": {},
   "source": [
    "##### Importancia de las características según Random Forest\n",
    "\n",
    "Las importancias de características basadas en impurezas calculadas en modelos basados ​​en árboles adolecen de dos defectos que pueden llevar a conclusiones engañosas. Primero, se calculan sobre estadísticas derivadas del conjunto de datos de entrenamiento y, por lo tanto , no necesariamente nos informan sobre qué características son más importantes para hacer buenas predicciones en el conjunto de datos retenido . En segundo lugar, favorecen las características de alta cardinalidad , es decir, características con muchos valores únicos. La importancia de la característica de permutación es una alternativa a la importancia de la característica basada en impurezas que no adolece de estos defectos."
   ]
  },
  {
   "cell_type": "code",
   "execution_count": null,
   "metadata": {},
   "outputs": [],
   "source": [
    "# importancia por pureza de nodos \n",
    "\n",
    "importances = pd.DataFrame({'Feature': X.columns, 'Importancia': rf.feature_importances_})\n",
    "importances.sort_values(by = ['Importancia'], ascending = False)"
   ]
  },
  {
   "cell_type": "code",
   "execution_count": null,
   "metadata": {},
   "outputs": [],
   "source": [
    "# importancia por permutación \n",
    "\n",
    "importancia = permutation_importance(\n",
    "                estimator    = rf,\n",
    "                X            = X_train,\n",
    "                y            = y_train,\n",
    "                n_repeats    = 5,\n",
    "                scoring      = 'neg_root_mean_squared_error',\n",
    "                n_jobs       = multiprocessing.cpu_count() - 1,\n",
    "                random_state = 123\n",
    "             )\n",
    "\n",
    "df_importancia = pd.DataFrame(\n",
    "                    {k: importancia[k] for k in ['importances_mean', 'importances_std']}\n",
    "                 )\n",
    "df_importancia['feature'] = X_train.columns\n",
    "df_importancia.sort_values('importances_mean', ascending=False)"
   ]
  },
  {
   "cell_type": "markdown",
   "metadata": {
    "id": "NZwdXWShv8Ny"
   },
   "source": [
    "## Ada Boost"
   ]
  },
  {
   "cell_type": "code",
   "execution_count": null,
   "metadata": {
    "colab": {
     "base_uri": "https://localhost:8080/"
    },
    "executionInfo": {
     "elapsed": 19768,
     "status": "ok",
     "timestamp": 1620506615284,
     "user": {
      "displayName": "Emma Amorós",
      "photoUrl": "",
      "userId": "13473672011848262140"
     },
     "user_tz": -120
    },
    "id": "qlH6vVzawHfC",
    "outputId": "7057c033-af68-4339-bd61-f6a2d04c18ab"
   },
   "outputs": [
    {
     "name": "stdout",
     "output_type": "stream",
     "text": [
      "AdaBoostClassifier(algorithm='SAMME.R', base_estimator=None, learning_rate=0.2,\n",
      "                   n_estimators=50, random_state=0)\n"
     ]
    }
   ],
   "source": [
    "#Model parameters to try\n",
    "\n",
    "n_estimators = [50, 100, 150, 200]\n",
    "learning_rate = [0.2, 0.4, 0.5, 0.7, 1]\n",
    "\n",
    "tuned_parameters = {'n_estimators': n_estimators, 'learning_rate': learning_rate}\n",
    "\n",
    "# search the best model \n",
    "clf_ada = AdaBoostClassifier(random_state=0)\n",
    "ada_clf = GridSearchCV(clf_ada, tuned_parameters, cv = 5, n_jobs = -1 , verbose = 0)\n",
    "\n",
    "\n",
    "ada_clf.fit(X_train, y_train)\n",
    "ada_best = ada_clf.best_estimator_\n",
    "print(ada_best)"
   ]
  },
  {
   "cell_type": "code",
   "execution_count": null,
   "metadata": {
    "colab": {
     "base_uri": "https://localhost:8080/"
    },
    "executionInfo": {
     "elapsed": 844,
     "status": "ok",
     "timestamp": 1620506647848,
     "user": {
      "displayName": "Emma Amorós",
      "photoUrl": "",
      "userId": "13473672011848262140"
     },
     "user_tz": -120
    },
    "id": "zr_jK-A0wlwR",
    "outputId": "739e1966-d3d4-4c58-d36a-08e1c873cec0"
   },
   "outputs": [
    {
     "name": "stdout",
     "output_type": "stream",
     "text": [
      "0.5537938844847112\n",
      "0.5966101694915255\n"
     ]
    }
   ],
   "source": [
    "print(ada_best.score(X_train, y_train))\n",
    "print(ada_best.score(X_test, y_test))"
   ]
  },
  {
   "cell_type": "code",
   "execution_count": null,
   "metadata": {
    "colab": {
     "base_uri": "https://localhost:8080/",
     "height": 500
    },
    "executionInfo": {
     "elapsed": 1022,
     "status": "ok",
     "timestamp": 1620506651483,
     "user": {
      "displayName": "Emma Amorós",
      "photoUrl": "",
      "userId": "13473672011848262140"
     },
     "user_tz": -120
    },
    "id": "X4W34PiCwDAH",
    "outputId": "17590968-4b60-4581-bfb1-5de211bcbc0b"
   },
   "outputs": [
    {
     "name": "stdout",
     "output_type": "stream",
     "text": [
      "              precision    recall  f1-score   support\n",
      "\n",
      "           1       0.77      0.66      0.71       271\n",
      "           2       0.45      0.31      0.37       129\n",
      "           3       0.49      0.70      0.58       190\n",
      "\n",
      "    accuracy                           0.60       590\n",
      "   macro avg       0.57      0.56      0.55       590\n",
      "weighted avg       0.61      0.60      0.59       590\n",
      "\n",
      "[[179  22  70]\n",
      " [ 21  40  68]\n",
      " [ 31  26 133]]\n"
     ]
    },
    {
     "data": {
      "text/plain": [
       "<matplotlib.axes._subplots.AxesSubplot at 0x7fcfc0d660d0>"
      ]
     },
     "execution_count": 33,
     "metadata": {
      "tags": []
     },
     "output_type": "execute_result"
    },
    {
     "data": {
      "image/png": "[encoded data removed]",
      "text/plain": [
       "<Figure size 432x288 with 2 Axes>"
      ]
     },
     "metadata": {
      "needs_background": "light",
      "tags": []
     },
     "output_type": "display_data"
    }
   ],
   "source": [
    "# predecimos en test y evaluamos métricas y vemos la matriz de confusión\n",
    "\n",
    "predict = ada_best.predict(X_test)\n",
    "print(classification_report(y_test, predict))\n",
    "\n",
    "conf_matrix = confusion_matrix(y_test, predict)\n",
    "print(conf_matrix)\n",
    "sns.heatmap(conf_matrix, annot= True)"
   ]
  },
  {
   "cell_type": "markdown",
   "metadata": {
    "id": "FGmiGtK6v2Ch"
   },
   "source": [
    "## SVM"
   ]
  },
  {
   "cell_type": "code",
   "execution_count": null,
   "metadata": {
    "id": "oTWor8yDv09P"
   },
   "outputs": [],
   "source": []
  },
  {
   "cell_type": "code",
   "execution_count": null,
   "metadata": {
    "id": "X4UYVsunyd8g"
   },
   "outputs": [],
   "source": []
  },
  {
   "cell_type": "markdown",
   "metadata": {
    "id": "8vSBXEg1ycwE"
   },
   "source": [
    "## Gradient Boosting"
   ]
  },
  {
   "cell_type": "code",
   "execution_count": null,
   "metadata": {
    "colab": {
     "base_uri": "https://localhost:8080/"
    },
    "executionInfo": {
     "elapsed": 599144,
     "status": "ok",
     "timestamp": 1620290412817,
     "user": {
      "displayName": "Emma Amorós",
      "photoUrl": "",
      "userId": "13473672011848262140"
     },
     "user_tz": -120
    },
    "id": "QOyruzkUyfQC",
    "outputId": "64ee5b34-2bd6-4a9e-f76b-124850fc96e7"
   },
   "outputs": [
    {
     "name": "stdout",
     "output_type": "stream",
     "text": [
      "GradientBoostingClassifier(ccp_alpha=0.0, criterion='friedman_mse', init=None,\n",
      "                           learning_rate=0.4, loss='deviance', max_depth=2,\n",
      "                           max_features=None, max_leaf_nodes=None,\n",
      "                           min_impurity_decrease=0.0, min_impurity_split=None,\n",
      "                           min_samples_leaf=1, min_samples_split=2,\n",
      "                           min_weight_fraction_leaf=0.0, n_estimators=50,\n",
      "                           n_iter_no_change=None, presort='deprecated',\n",
      "                           random_state=0, subsample=1.0, tol=0.0001,\n",
      "                           validation_fraction=0.1, verbose=0,\n",
      "                           warm_start=False)\n",
      "0.6417657045840407\n",
      "0.5661016949152542\n"
     ]
    }
   ],
   "source": [
    "#Model parameters to try\n",
    "\n",
    "n_estimators = [50, 100, 150, 200]\n",
    "learning_rate = [0.2, 0.4, 0.5, 0.7, 1]\n",
    "max_depth = [2,3,4,5,6,7,8]\n",
    "\n",
    "tuned_parameters = {'n_estimators': n_estimators, 'learning_rate': learning_rate, 'max_depth': max_depth}\n",
    "\n",
    "# search the best model \n",
    "clf_gbc = GradientBoostingClassifier(random_state=0)\n",
    "gbc_clf = GridSearchCV(clf_gbc, tuned_parameters, cv = 5, n_jobs = -1 , verbose = 0)\n",
    "\n",
    "\n",
    "gbc_clf.fit(X_train, y_train)\n",
    "gbc_best = gbc_clf.best_estimator_\n",
    "print(gbc_best)\n",
    "\n",
    "print(gbc_best.score(X_train, y_train))\n",
    "print(gbc_best.score(X_test, y_test))"
   ]
  },
  {
   "cell_type": "code",
   "execution_count": null,
   "metadata": {
    "colab": {
     "base_uri": "https://localhost:8080/",
     "height": 500
    },
    "executionInfo": {
     "elapsed": 974,
     "status": "ok",
     "timestamp": 1620290455403,
     "user": {
      "displayName": "Emma Amorós",
      "photoUrl": "",
      "userId": "13473672011848262140"
     },
     "user_tz": -120
    },
    "id": "kPVp4bNOy7vd",
    "outputId": "7cb44b6e-c8f2-4e6c-fe6e-30f231c59e64"
   },
   "outputs": [
    {
     "name": "stdout",
     "output_type": "stream",
     "text": [
      "              precision    recall  f1-score   support\n",
      "\n",
      "           1       0.69      0.66      0.68       131\n",
      "           2       0.59      0.37      0.45        79\n",
      "           3       0.42      0.60      0.50        85\n",
      "\n",
      "    accuracy                           0.57       295\n",
      "   macro avg       0.57      0.54      0.54       295\n",
      "weighted avg       0.59      0.57      0.57       295\n",
      "\n",
      "[[87  5 39]\n",
      " [20 29 30]\n",
      " [19 15 51]]\n"
     ]
    },
    {
     "data": {
      "text/plain": [
       "<matplotlib.axes._subplots.AxesSubplot at 0x7f5e8d77b990>"
      ]
     },
     "execution_count": 82,
     "metadata": {
      "tags": []
     },
     "output_type": "execute_result"
    },
    {
     "data": {
      "image/png": "[encoded data removed]",
      "text/plain": [
       "<Figure size 432x288 with 2 Axes>"
      ]
     },
     "metadata": {
      "needs_background": "light",
      "tags": []
     },
     "output_type": "display_data"
    }
   ],
   "source": [
    "# predecimos en test y evaluamos métricas y vemos la matriz de confusión\n",
    "\n",
    "predict = gbc_best.predict(X_test)\n",
    "print(classification_report(y_test, predict))\n",
    "\n",
    "conf_matrix = confusion_matrix(y_test, predict)\n",
    "print(conf_matrix)\n",
    "sns.heatmap(conf_matrix, annot= True)"
   ]
  },
  {
   "cell_type": "markdown",
   "metadata": {},
   "source": [
    "##### Importancia de las características según gradient Boosting"
   ]
  },
  {
   "cell_type": "code",
   "execution_count": null,
   "metadata": {
    "colab": {
     "base_uri": "https://localhost:8080/",
     "height": 402
    },
    "executionInfo": {
     "elapsed": 748,
     "status": "ok",
     "timestamp": 1620290561491,
     "user": {
      "displayName": "Emma Amorós",
      "photoUrl": "",
      "userId": "13473672011848262140"
     },
     "user_tz": -120
    },
    "id": "PBqVPRn3z_eq",
    "outputId": "579898ed-a9e2-483d-add9-6dc5d911c3ca"
   },
   "outputs": [
    {
     "data": {
      "text/html": [
       "<div>\n",
       "<style scoped>\n",
       "    .dataframe tbody tr th:only-of-type {\n",
       "        vertical-align: middle;\n",
       "    }\n",
       "\n",
       "    .dataframe tbody tr th {\n",
       "        vertical-align: top;\n",
       "    }\n",
       "\n",
       "    .dataframe thead th {\n",
       "        text-align: right;\n",
       "    }\n",
       "</style>\n",
       "<table border=\"1\" class=\"dataframe\">\n",
       "  <thead>\n",
       "    <tr style=\"text-align: right;\">\n",
       "      <th></th>\n",
       "      <th>Feature</th>\n",
       "      <th>Importancia</th>\n",
       "    </tr>\n",
       "  </thead>\n",
       "  <tbody>\n",
       "    <tr>\n",
       "      <th>3</th>\n",
       "      <td>Children</td>\n",
       "      <td>0.388976</td>\n",
       "    </tr>\n",
       "    <tr>\n",
       "      <th>0</th>\n",
       "      <td>Age</td>\n",
       "      <td>0.320457</td>\n",
       "    </tr>\n",
       "    <tr>\n",
       "      <th>1</th>\n",
       "      <td>Education</td>\n",
       "      <td>0.153438</td>\n",
       "    </tr>\n",
       "    <tr>\n",
       "      <th>6</th>\n",
       "      <td>Living_index</td>\n",
       "      <td>0.042992</td>\n",
       "    </tr>\n",
       "    <tr>\n",
       "      <th>2</th>\n",
       "      <td>Husband_education</td>\n",
       "      <td>0.025919</td>\n",
       "    </tr>\n",
       "    <tr>\n",
       "      <th>8</th>\n",
       "      <td>Husband_work_1</td>\n",
       "      <td>0.023094</td>\n",
       "    </tr>\n",
       "    <tr>\n",
       "      <th>10</th>\n",
       "      <td>Husband_work_3</td>\n",
       "      <td>0.012778</td>\n",
       "    </tr>\n",
       "    <tr>\n",
       "      <th>7</th>\n",
       "      <td>Media_exposure</td>\n",
       "      <td>0.008162</td>\n",
       "    </tr>\n",
       "    <tr>\n",
       "      <th>5</th>\n",
       "      <td>Work</td>\n",
       "      <td>0.007091</td>\n",
       "    </tr>\n",
       "    <tr>\n",
       "      <th>11</th>\n",
       "      <td>Husband_work_4</td>\n",
       "      <td>0.006609</td>\n",
       "    </tr>\n",
       "    <tr>\n",
       "      <th>4</th>\n",
       "      <td>Religion</td>\n",
       "      <td>0.005459</td>\n",
       "    </tr>\n",
       "    <tr>\n",
       "      <th>9</th>\n",
       "      <td>Husband_work_2</td>\n",
       "      <td>0.005026</td>\n",
       "    </tr>\n",
       "  </tbody>\n",
       "</table>\n",
       "</div>"
      ],
      "text/plain": [
       "              Feature  Importancia\n",
       "3            Children     0.388976\n",
       "0                 Age     0.320457\n",
       "1           Education     0.153438\n",
       "6        Living_index     0.042992\n",
       "2   Husband_education     0.025919\n",
       "8      Husband_work_1     0.023094\n",
       "10     Husband_work_3     0.012778\n",
       "7      Media_exposure     0.008162\n",
       "5                Work     0.007091\n",
       "11     Husband_work_4     0.006609\n",
       "4            Religion     0.005459\n",
       "9      Husband_work_2     0.005026"
      ]
     },
     "execution_count": 85,
     "metadata": {
      "tags": []
     },
     "output_type": "execute_result"
    }
   ],
   "source": [
    "# se basa en la entropía para obtener las características \n",
    "\n",
    "importances = pd.DataFrame({'Feature': X.columns, 'Importancia': gbc_best.feature_importances_ })\n",
    "importances.sort_values(by = ['Importancia'], ascending = False)"
   ]
  },
  {
   "cell_type": "markdown",
   "metadata": {
    "id": "_4zYSb6pyeXa"
   },
   "source": [
    "# Modelos 2\n",
    "\n",
    "Eliminamos las variables que en el AED hemos visto que son menos importantes, ya que presentan menos relación con la clase a predecir. Estas son Religión y Work. \n",
    "\n",
    "Además, habíamos comentado que se colapasaría husband_work, los grupos 2 y 4 para que estuviesen menos desbalanceados (es categórica no ordenada). "
   ]
  },
  {
   "cell_type": "markdown",
   "metadata": {
    "id": "KqSQrYmBfSzF"
   },
   "source": [
    "## Train_test_split"
   ]
  },
  {
   "cell_type": "code",
   "execution_count": null,
   "metadata": {
    "colab": {
     "base_uri": "https://localhost:8080/",
     "height": 422
    },
    "executionInfo": {
     "elapsed": 613,
     "status": "ok",
     "timestamp": 1620575126099,
     "user": {
      "displayName": "Emma Amorós",
      "photoUrl": "",
      "userId": "13473672011848262140"
     },
     "user_tz": -120
    },
    "id": "C3Jyi6M82BZm",
    "outputId": "ae0c7260-7582-4ab2-f621-4d3504960724"
   },
   "outputs": [
    {
     "data": {
      "text/html": [
       "<div>\n",
       "<style scoped>\n",
       "    .dataframe tbody tr th:only-of-type {\n",
       "        vertical-align: middle;\n",
       "    }\n",
       "\n",
       "    .dataframe tbody tr th {\n",
       "        vertical-align: top;\n",
       "    }\n",
       "\n",
       "    .dataframe thead th {\n",
       "        text-align: right;\n",
       "    }\n",
       "</style>\n",
       "<table border=\"1\" class=\"dataframe\">\n",
       "  <thead>\n",
       "    <tr style=\"text-align: right;\">\n",
       "      <th></th>\n",
       "      <th>Age</th>\n",
       "      <th>Education</th>\n",
       "      <th>Husband_education</th>\n",
       "      <th>Children</th>\n",
       "      <th>Living_index</th>\n",
       "      <th>Media_exposure</th>\n",
       "      <th>Contraceptive</th>\n",
       "      <th>Husband_work_1</th>\n",
       "      <th>Husband_work_2</th>\n",
       "      <th>Husband_work_3</th>\n",
       "    </tr>\n",
       "  </thead>\n",
       "  <tbody>\n",
       "    <tr>\n",
       "      <th>0</th>\n",
       "      <td>24</td>\n",
       "      <td>1.0</td>\n",
       "      <td>2.0</td>\n",
       "      <td>3</td>\n",
       "      <td>2.0</td>\n",
       "      <td>0</td>\n",
       "      <td>1</td>\n",
       "      <td>0</td>\n",
       "      <td>1</td>\n",
       "      <td>0</td>\n",
       "    </tr>\n",
       "    <tr>\n",
       "      <th>1</th>\n",
       "      <td>45</td>\n",
       "      <td>0.0</td>\n",
       "      <td>2.0</td>\n",
       "      <td>10</td>\n",
       "      <td>3.0</td>\n",
       "      <td>0</td>\n",
       "      <td>1</td>\n",
       "      <td>0</td>\n",
       "      <td>0</td>\n",
       "      <td>1</td>\n",
       "    </tr>\n",
       "    <tr>\n",
       "      <th>2</th>\n",
       "      <td>43</td>\n",
       "      <td>1.0</td>\n",
       "      <td>2.0</td>\n",
       "      <td>7</td>\n",
       "      <td>3.0</td>\n",
       "      <td>0</td>\n",
       "      <td>1</td>\n",
       "      <td>0</td>\n",
       "      <td>0</td>\n",
       "      <td>1</td>\n",
       "    </tr>\n",
       "    <tr>\n",
       "      <th>3</th>\n",
       "      <td>42</td>\n",
       "      <td>2.0</td>\n",
       "      <td>1.0</td>\n",
       "      <td>9</td>\n",
       "      <td>2.0</td>\n",
       "      <td>0</td>\n",
       "      <td>1</td>\n",
       "      <td>0</td>\n",
       "      <td>0</td>\n",
       "      <td>1</td>\n",
       "    </tr>\n",
       "    <tr>\n",
       "      <th>4</th>\n",
       "      <td>36</td>\n",
       "      <td>2.0</td>\n",
       "      <td>2.0</td>\n",
       "      <td>8</td>\n",
       "      <td>1.0</td>\n",
       "      <td>0</td>\n",
       "      <td>1</td>\n",
       "      <td>0</td>\n",
       "      <td>0</td>\n",
       "      <td>1</td>\n",
       "    </tr>\n",
       "    <tr>\n",
       "      <th>...</th>\n",
       "      <td>...</td>\n",
       "      <td>...</td>\n",
       "      <td>...</td>\n",
       "      <td>...</td>\n",
       "      <td>...</td>\n",
       "      <td>...</td>\n",
       "      <td>...</td>\n",
       "      <td>...</td>\n",
       "      <td>...</td>\n",
       "      <td>...</td>\n",
       "    </tr>\n",
       "    <tr>\n",
       "      <th>1468</th>\n",
       "      <td>33</td>\n",
       "      <td>3.0</td>\n",
       "      <td>3.0</td>\n",
       "      <td>2</td>\n",
       "      <td>3.0</td>\n",
       "      <td>0</td>\n",
       "      <td>3</td>\n",
       "      <td>0</td>\n",
       "      <td>1</td>\n",
       "      <td>0</td>\n",
       "    </tr>\n",
       "    <tr>\n",
       "      <th>1469</th>\n",
       "      <td>33</td>\n",
       "      <td>3.0</td>\n",
       "      <td>3.0</td>\n",
       "      <td>3</td>\n",
       "      <td>3.0</td>\n",
       "      <td>0</td>\n",
       "      <td>3</td>\n",
       "      <td>1</td>\n",
       "      <td>0</td>\n",
       "      <td>0</td>\n",
       "    </tr>\n",
       "    <tr>\n",
       "      <th>1470</th>\n",
       "      <td>39</td>\n",
       "      <td>2.0</td>\n",
       "      <td>2.0</td>\n",
       "      <td>8</td>\n",
       "      <td>3.0</td>\n",
       "      <td>0</td>\n",
       "      <td>3</td>\n",
       "      <td>1</td>\n",
       "      <td>0</td>\n",
       "      <td>0</td>\n",
       "    </tr>\n",
       "    <tr>\n",
       "      <th>1471</th>\n",
       "      <td>33</td>\n",
       "      <td>2.0</td>\n",
       "      <td>2.0</td>\n",
       "      <td>4</td>\n",
       "      <td>1.0</td>\n",
       "      <td>0</td>\n",
       "      <td>3</td>\n",
       "      <td>0</td>\n",
       "      <td>1</td>\n",
       "      <td>0</td>\n",
       "    </tr>\n",
       "    <tr>\n",
       "      <th>1472</th>\n",
       "      <td>17</td>\n",
       "      <td>2.0</td>\n",
       "      <td>2.0</td>\n",
       "      <td>1</td>\n",
       "      <td>3.0</td>\n",
       "      <td>0</td>\n",
       "      <td>3</td>\n",
       "      <td>0</td>\n",
       "      <td>1</td>\n",
       "      <td>0</td>\n",
       "    </tr>\n",
       "  </tbody>\n",
       "</table>\n",
       "<p>1473 rows × 10 columns</p>\n",
       "</div>"
      ],
      "text/plain": [
       "      Age  Education  ...  Husband_work_2  Husband_work_3\n",
       "0      24        1.0  ...               1               0\n",
       "1      45        0.0  ...               0               1\n",
       "2      43        1.0  ...               0               1\n",
       "3      42        2.0  ...               0               1\n",
       "4      36        2.0  ...               0               1\n",
       "...   ...        ...  ...             ...             ...\n",
       "1468   33        3.0  ...               1               0\n",
       "1469   33        3.0  ...               0               0\n",
       "1470   39        2.0  ...               0               0\n",
       "1471   33        2.0  ...               1               0\n",
       "1472   17        2.0  ...               1               0\n",
       "\n",
       "[1473 rows x 10 columns]"
      ]
     },
     "execution_count": 19,
     "metadata": {
      "tags": []
     },
     "output_type": "execute_result"
    }
   ],
   "source": [
    "data_mod3 = data.copy()\n",
    "\n",
    "# eliminamos religion (muy desbalanceada) y eliminamos work \n",
    "\n",
    "del data_mod3['Religion']\n",
    "del data_mod3['Work']\n",
    "\n",
    "# colapsamos husband work 4 y 2 \n",
    "del data_mod3['Husband_work_1']\n",
    "del data_mod3['Husband_work_2']\n",
    "del data_mod3['Husband_work_3']\n",
    "del data_mod3['Husband_work_4']\n",
    "\n",
    "data_mod3['Husband_work'] = df['Husband_work']\n",
    "data_mod3.Husband_work = data_mod3.Husband_work.replace({4:2})\n",
    "data_mod3 = pd.get_dummies(data_mod3, prefix = ['Husband_work'], columns = ['Husband_work'])\n",
    "\n",
    "data_mod3"
   ]
  },
  {
   "cell_type": "code",
   "execution_count": null,
   "metadata": {
    "colab": {
     "base_uri": "https://localhost:8080/"
    },
    "executionInfo": {
     "elapsed": 671,
     "status": "ok",
     "timestamp": 1620575129904,
     "user": {
      "displayName": "Emma Amorós",
      "photoUrl": "",
      "userId": "13473672011848262140"
     },
     "user_tz": -120
    },
    "id": "Eb3ofK31faaQ",
    "outputId": "4d2aa1d5-cd31-4662-bae7-a4599f80cb25"
   },
   "outputs": [
    {
     "name": "stdout",
     "output_type": "stream",
     "text": [
      "(1178, 9) (1178,) (295, 9) (295,)\n"
     ]
    }
   ],
   "source": [
    "X3 = data_mod3.drop('Contraceptive', axis = 1)\n",
    "y3 = data_mod3.iloc[:,6]\n",
    "\n",
    "X_train3, X_test3, y_train3, y_test3 = train_test_split(X3, y3, test_size = 0.2, random_state = 1234)\n",
    "print(X_train3.shape, y_train3.shape, X_test3.shape, y_test3.shape)"
   ]
  },
  {
   "cell_type": "code",
   "execution_count": null,
   "metadata": {
    "colab": {
     "base_uri": "https://localhost:8080/",
     "height": 136
    },
    "executionInfo": {
     "elapsed": 394,
     "status": "ok",
     "timestamp": 1620575131029,
     "user": {
      "displayName": "Emma Amorós",
      "photoUrl": "",
      "userId": "13473672011848262140"
     },
     "user_tz": -120
    },
    "id": "WEz7gQlofgRk",
    "outputId": "a4df9f89-06ea-418d-e2ad-0ca65fd4373d"
   },
   "outputs": [
    {
     "data": {
      "text/html": [
       "<div>\n",
       "<style scoped>\n",
       "    .dataframe tbody tr th:only-of-type {\n",
       "        vertical-align: middle;\n",
       "    }\n",
       "\n",
       "    .dataframe tbody tr th {\n",
       "        vertical-align: top;\n",
       "    }\n",
       "\n",
       "    .dataframe thead th {\n",
       "        text-align: right;\n",
       "    }\n",
       "</style>\n",
       "<table border=\"1\" class=\"dataframe\">\n",
       "  <thead>\n",
       "    <tr style=\"text-align: right;\">\n",
       "      <th></th>\n",
       "      <th>Category</th>\n",
       "      <th>Counts</th>\n",
       "      <th>Frecuency</th>\n",
       "    </tr>\n",
       "  </thead>\n",
       "  <tbody>\n",
       "    <tr>\n",
       "      <th>0</th>\n",
       "      <td>1</td>\n",
       "      <td>498</td>\n",
       "      <td>0.338086</td>\n",
       "    </tr>\n",
       "    <tr>\n",
       "      <th>1</th>\n",
       "      <td>2</td>\n",
       "      <td>254</td>\n",
       "      <td>0.172437</td>\n",
       "    </tr>\n",
       "    <tr>\n",
       "      <th>2</th>\n",
       "      <td>3</td>\n",
       "      <td>426</td>\n",
       "      <td>0.289206</td>\n",
       "    </tr>\n",
       "  </tbody>\n",
       "</table>\n",
       "</div>"
      ],
      "text/plain": [
       "   Category  Counts  Frecuency\n",
       "0         1     498   0.338086\n",
       "1         2     254   0.172437\n",
       "2         3     426   0.289206"
      ]
     },
     "execution_count": 21,
     "metadata": {
      "tags": []
     },
     "output_type": "execute_result"
    }
   ],
   "source": [
    "freq_class = y_train3.value_counts()\n",
    "\n",
    "freq_class = pd.DataFrame(freq_class).sort_index(ascending=True).reset_index()\n",
    "freq_class = freq_class.rename(columns = {'index':'Category', 'Contraceptive':'Counts'})\n",
    "freq_class['Frecuency'] = freq_class['Counts']/data.shape[0]\n",
    "\n",
    "freq_class"
   ]
  },
  {
   "cell_type": "markdown",
   "metadata": {
    "id": "hdNMVpLZrLPX"
   },
   "source": [
    "## Logistic regression"
   ]
  },
  {
   "cell_type": "code",
   "execution_count": null,
   "metadata": {
    "colab": {
     "base_uri": "https://localhost:8080/"
    },
    "executionInfo": {
     "elapsed": 900,
     "status": "ok",
     "timestamp": 1620461514859,
     "user": {
      "displayName": "Emma Amorós",
      "photoUrl": "",
      "userId": "13473672011848262140"
     },
     "user_tz": -120
    },
    "id": "qC_El1GtrO5X",
    "outputId": "a833ffba-f399-433b-b196-a75465e52517"
   },
   "outputs": [
    {
     "name": "stdout",
     "output_type": "stream",
     "text": [
      "0.5033955857385399\n",
      "0.5457627118644067\n"
     ]
    },
    {
     "name": "stderr",
     "output_type": "stream",
     "text": [
      "/usr/local/lib/python3.7/dist-packages/sklearn/linear_model/_logistic.py:940: ConvergenceWarning: lbfgs failed to converge (status=1):\n",
      "STOP: TOTAL NO. of ITERATIONS REACHED LIMIT.\n",
      "\n",
      "Increase the number of iterations (max_iter) or scale the data as shown in:\n",
      "    https://scikit-learn.org/stable/modules/preprocessing.html\n",
      "Please also refer to the documentation for alternative solver options:\n",
      "    https://scikit-learn.org/stable/modules/linear_model.html#logistic-regression\n",
      "  extra_warning_msg=_LOGISTIC_SOLVER_CONVERGENCE_MSG)\n"
     ]
    }
   ],
   "source": [
    "regresion_logistica = LogisticRegression()\n",
    "regresion_logistica.fit(X_train3,y_train3)\n",
    "print(regresion_logistica.score(X_train3,y_train3))\n",
    "print(regresion_logistica.score(X_test3, y_test3))"
   ]
  },
  {
   "cell_type": "code",
   "execution_count": null,
   "metadata": {
    "colab": {
     "base_uri": "https://localhost:8080/",
     "height": 500
    },
    "executionInfo": {
     "elapsed": 977,
     "status": "ok",
     "timestamp": 1620461517189,
     "user": {
      "displayName": "Emma Amorós",
      "photoUrl": "",
      "userId": "13473672011848262140"
     },
     "user_tz": -120
    },
    "id": "sXwpF9XFrRPo",
    "outputId": "0d65add7-79e3-4a46-ed58-49e17ee2eef8"
   },
   "outputs": [
    {
     "name": "stdout",
     "output_type": "stream",
     "text": [
      "              precision    recall  f1-score   support\n",
      "\n",
      "           1       0.64      0.72      0.68       131\n",
      "           2       0.58      0.27      0.37        79\n",
      "           3       0.41      0.54      0.46        85\n",
      "\n",
      "    accuracy                           0.55       295\n",
      "   macro avg       0.54      0.51      0.50       295\n",
      "weighted avg       0.56      0.55      0.53       295\n",
      "\n",
      "[[94  5 32]\n",
      " [23 21 35]\n",
      " [29 10 46]]\n"
     ]
    },
    {
     "data": {
      "text/plain": [
       "<matplotlib.axes._subplots.AxesSubplot at 0x7f742c79c7d0>"
      ]
     },
     "execution_count": 9,
     "metadata": {
      "tags": []
     },
     "output_type": "execute_result"
    },
    {
     "data": {
      "image/png": "[encoded data removed]",
      "text/plain": [
       "<Figure size 432x288 with 2 Axes>"
      ]
     },
     "metadata": {
      "needs_background": "light",
      "tags": []
     },
     "output_type": "display_data"
    }
   ],
   "source": [
    "predict3 = regresion_logistica.predict(X_test3)\n",
    "print(classification_report(y_test3, predict3))\n",
    "\n",
    "conf_matrix3 = confusion_matrix(y_test3, predict3)\n",
    "print(conf_matrix3)\n",
    "\n",
    "sns.heatmap(conf_matrix3, annot= True)"
   ]
  },
  {
   "cell_type": "markdown",
   "metadata": {
    "id": "S_DIB744lMCH"
   },
   "source": [
    "## Random Forest"
   ]
  },
  {
   "cell_type": "code",
   "execution_count": null,
   "metadata": {
    "colab": {
     "base_uri": "https://localhost:8080/"
    },
    "executionInfo": {
     "elapsed": 11274,
     "status": "ok",
     "timestamp": 1620507183281,
     "user": {
      "displayName": "Emma Amorós",
      "photoUrl": "",
      "userId": "13473672011848262140"
     },
     "user_tz": -120
    },
    "id": "685TdtdHlMQg",
    "outputId": "0ddd1ef8-3702-4aaa-f612-4fb0a73edd13"
   },
   "outputs": [
    {
     "name": "stdout",
     "output_type": "stream",
     "text": [
      "RandomForestClassifier(bootstrap=True, ccp_alpha=0.0, class_weight=None,\n",
      "                       criterion='gini', max_depth=4, max_features='auto',\n",
      "                       max_leaf_nodes=None, max_samples=None,\n",
      "                       min_impurity_decrease=0.0, min_impurity_split=None,\n",
      "                       min_samples_leaf=1, min_samples_split=2,\n",
      "                       min_weight_fraction_leaf=0.0, n_estimators=100,\n",
      "                       n_jobs=None, oob_score=False, random_state=0, verbose=0,\n",
      "                       warm_start=False)\n",
      "0.5832389580973952\n",
      "0.5627118644067797\n"
     ]
    }
   ],
   "source": [
    "#Model parameters to try\n",
    "n_estimators = [50, 100, 150, 200]\n",
    "maxprof = range(2, 5)\n",
    "\n",
    "tuned_parameters = {'n_estimators': n_estimators, 'max_depth': maxprof}  \n",
    "\n",
    "# search the best model \n",
    "rfc = RandomForestClassifier(random_state = 0)\n",
    "clf_rfc = GridSearchCV(rfc, tuned_parameters, cv = 5, n_jobs = -1 , verbose = 0)\n",
    "\n",
    "clf_rfc.fit(X_train3, y_train3)\n",
    "rf = clf_rfc.best_estimator_\n",
    "print(rf)\n",
    "\n",
    "print(rf.score(X_train3, y_train3))\n",
    "print(rf.score(X_test3, y_test3))"
   ]
  },
  {
   "cell_type": "code",
   "execution_count": null,
   "metadata": {
    "colab": {
     "base_uri": "https://localhost:8080/",
     "height": 500
    },
    "executionInfo": {
     "elapsed": 678,
     "status": "ok",
     "timestamp": 1620507189961,
     "user": {
      "displayName": "Emma Amorós",
      "photoUrl": "",
      "userId": "13473672011848262140"
     },
     "user_tz": -120
    },
    "id": "n4mccyvylJh-",
    "outputId": "fb715923-639e-4868-bef8-b845ad05a53e"
   },
   "outputs": [
    {
     "name": "stdout",
     "output_type": "stream",
     "text": [
      "              precision    recall  f1-score   support\n",
      "\n",
      "           1       0.76      0.58      0.66       271\n",
      "           2       0.45      0.32      0.37       129\n",
      "           3       0.46      0.70      0.55       190\n",
      "\n",
      "    accuracy                           0.56       590\n",
      "   macro avg       0.56      0.53      0.53       590\n",
      "weighted avg       0.59      0.56      0.56       590\n",
      "\n",
      "[[158  23  90]\n",
      " [ 21  41  67]\n",
      " [ 30  27 133]]\n"
     ]
    },
    {
     "data": {
      "text/plain": [
       "<matplotlib.axes._subplots.AxesSubplot at 0x7fcfc0f9ed90>"
      ]
     },
     "execution_count": 45,
     "metadata": {
      "tags": []
     },
     "output_type": "execute_result"
    },
    {
     "data": {
      "image/png": "[encoded data removed]",
      "text/plain": [
       "<Figure size 432x288 with 2 Axes>"
      ]
     },
     "metadata": {
      "needs_background": "light",
      "tags": []
     },
     "output_type": "display_data"
    }
   ],
   "source": [
    "# predecimos en test y evaluamos métricas y vemos la matriz de confusión\n",
    "\n",
    "predict1 = rf.predict(X_test3)\n",
    "print(classification_report(y_test3, predict1))\n",
    "\n",
    "conf_matrix1 = confusion_matrix(y_test3, predict1)\n",
    "print(conf_matrix1)\n",
    "\n",
    "sns.heatmap(conf_matrix1, annot= True)"
   ]
  },
  {
   "cell_type": "markdown",
   "metadata": {
    "id": "W3nOpJw_r6up"
   },
   "source": [
    "## Ada Boost"
   ]
  },
  {
   "cell_type": "code",
   "execution_count": null,
   "metadata": {
    "colab": {
     "base_uri": "https://localhost:8080/"
    },
    "executionInfo": {
     "elapsed": 21965,
     "status": "ok",
     "timestamp": 1620461634016,
     "user": {
      "displayName": "Emma Amorós",
      "photoUrl": "",
      "userId": "13473672011848262140"
     },
     "user_tz": -120
    },
    "id": "sPShTZsqr8Mj",
    "outputId": "8c0d0808-2519-41b3-d997-4cfc33915125"
   },
   "outputs": [
    {
     "name": "stdout",
     "output_type": "stream",
     "text": [
      "AdaBoostClassifier(algorithm='SAMME.R', base_estimator=None, learning_rate=0.2,\n",
      "                   n_estimators=50, random_state=0)\n"
     ]
    }
   ],
   "source": [
    "#Model parameters to try\n",
    "\n",
    "n_estimators = [50, 100, 150, 200]\n",
    "learning_rate = [0.2, 0.4, 0.5, 0.7, 1]\n",
    "\n",
    "tuned_parameters = {'n_estimators': n_estimators, 'learning_rate': learning_rate}\n",
    "\n",
    "# search the best model \n",
    "clf_ada = AdaBoostClassifier(random_state=0)\n",
    "ada_clf = GridSearchCV(clf_ada, tuned_parameters, cv = 5, n_jobs = -1 , verbose = 0)\n",
    "\n",
    "\n",
    "ada_clf.fit(X_train3, y_train3)\n",
    "ada_best = ada_clf.best_estimator_\n",
    "print(ada_best)"
   ]
  },
  {
   "cell_type": "code",
   "execution_count": null,
   "metadata": {
    "colab": {
     "base_uri": "https://localhost:8080/",
     "height": 500
    },
    "executionInfo": {
     "elapsed": 985,
     "status": "ok",
     "timestamp": 1620461651574,
     "user": {
      "displayName": "Emma Amorós",
      "photoUrl": "",
      "userId": "13473672011848262140"
     },
     "user_tz": -120
    },
    "id": "qHDik9f-r-2I",
    "outputId": "48dc5e61-2647-422a-f918-b49aec007fea"
   },
   "outputs": [
    {
     "name": "stdout",
     "output_type": "stream",
     "text": [
      "              precision    recall  f1-score   support\n",
      "\n",
      "           1       0.79      0.63      0.70       131\n",
      "           2       0.52      0.28      0.36        79\n",
      "           3       0.43      0.75      0.55        85\n",
      "\n",
      "    accuracy                           0.57       295\n",
      "   macro avg       0.58      0.56      0.54       295\n",
      "weighted avg       0.62      0.57      0.57       295\n",
      "\n",
      "[[83 11 37]\n",
      " [10 22 47]\n",
      " [12  9 64]]\n"
     ]
    },
    {
     "data": {
      "text/plain": [
       "<matplotlib.axes._subplots.AxesSubplot at 0x7f7421dd9450>"
      ]
     },
     "execution_count": 14,
     "metadata": {
      "tags": []
     },
     "output_type": "execute_result"
    },
    {
     "data": {
      "image/png": "[encoded data removed]",
      "text/plain": [
       "<Figure size 432x288 with 2 Axes>"
      ]
     },
     "metadata": {
      "needs_background": "light",
      "tags": []
     },
     "output_type": "display_data"
    }
   ],
   "source": [
    "# predecimos en test y evaluamos métricas y vemos la matriz de confusión\n",
    "\n",
    "predict3 = ada_best.predict(X_test3)\n",
    "print(classification_report(y_test3, predict3))\n",
    "\n",
    "conf_matrix3 = confusion_matrix(y_test3, predict3)\n",
    "print(conf_matrix3)\n",
    "sns.heatmap(conf_matrix3, annot= True)"
   ]
  },
  {
   "cell_type": "markdown",
   "metadata": {
    "id": "eRN71SodO-AT"
   },
   "source": [
    "## Gradient Boosting"
   ]
  },
  {
   "cell_type": "code",
   "execution_count": null,
   "metadata": {
    "colab": {
     "base_uri": "https://localhost:8080/"
    },
    "executionInfo": {
     "elapsed": 584793,
     "status": "ok",
     "timestamp": 1620575719917,
     "user": {
      "displayName": "Emma Amorós",
      "photoUrl": "",
      "userId": "13473672011848262140"
     },
     "user_tz": -120
    },
    "id": "MwWhHGaAPA1f",
    "outputId": "ef3529a3-192d-4b89-b797-5e5e26848caf"
   },
   "outputs": [
    {
     "name": "stdout",
     "output_type": "stream",
     "text": [
      "GradientBoostingClassifier(ccp_alpha=0.0, criterion='friedman_mse', init=None,\n",
      "                           learning_rate=0.2, loss='deviance', max_depth=3,\n",
      "                           max_features=None, max_leaf_nodes=None,\n",
      "                           min_impurity_decrease=0.0, min_impurity_split=None,\n",
      "                           min_samples_leaf=1, min_samples_split=2,\n",
      "                           min_weight_fraction_leaf=0.0, n_estimators=50,\n",
      "                           n_iter_no_change=None, presort='deprecated',\n",
      "                           random_state=0, subsample=1.0, tol=0.0001,\n",
      "                           validation_fraction=0.1, verbose=0,\n",
      "                           warm_start=False)\n",
      "0.6816638370118846\n",
      "0.5864406779661017\n"
     ]
    }
   ],
   "source": [
    "#Model parameters to try\n",
    "\n",
    "n_estimators = [50, 100, 150, 200]\n",
    "learning_rate = [0.2, 0.4, 0.5, 0.7, 1]\n",
    "max_depth = [2,3,4,5,6,7,8]\n",
    "\n",
    "tuned_parameters = {'n_estimators': n_estimators, 'learning_rate': learning_rate, 'max_depth': max_depth}\n",
    "\n",
    "# search the best model \n",
    "clf_gbc = GradientBoostingClassifier(random_state=0)\n",
    "gbc_clf = GridSearchCV(clf_gbc, tuned_parameters, cv = 5, n_jobs = -1 , verbose = 0)\n",
    "\n",
    "\n",
    "gbc_clf.fit(X_train3, y_train3)\n",
    "gbc_best = gbc_clf.best_estimator_\n",
    "print(gbc_best)\n",
    "\n",
    "print(gbc_best.score(X_train3, y_train3))\n",
    "print(gbc_best.score(X_test3, y_test3))"
   ]
  },
  {
   "cell_type": "code",
   "execution_count": null,
   "metadata": {
    "colab": {
     "base_uri": "https://localhost:8080/",
     "height": 514
    },
    "executionInfo": {
     "elapsed": 693,
     "status": "ok",
     "timestamp": 1620575891531,
     "user": {
      "displayName": "Emma Amorós",
      "photoUrl": "",
      "userId": "13473672011848262140"
     },
     "user_tz": -120
    },
    "id": "-rAWztZVPA81",
    "outputId": "5f7c6675-b279-4e6e-dc7c-d625996f4242"
   },
   "outputs": [
    {
     "name": "stdout",
     "output_type": "stream",
     "text": [
      "              precision    recall  f1-score   support\n",
      "\n",
      "           1       0.69      0.66      0.67       131\n",
      "           2       0.66      0.42      0.51        79\n",
      "           3       0.45      0.64      0.52        85\n",
      "\n",
      "    accuracy                           0.59       295\n",
      "   macro avg       0.60      0.57      0.57       295\n",
      "weighted avg       0.61      0.59      0.59       295\n",
      "\n",
      "[[86  3 42]\n",
      " [21 33 25]\n",
      " [17 14 54]]\n"
     ]
    },
    {
     "data": {
      "image/png": "[encoded data removed]",
      "text/plain": [
       "<Figure size 432x288 with 2 Axes>"
      ]
     },
     "metadata": {
      "needs_background": "light",
      "tags": []
     },
     "output_type": "display_data"
    }
   ],
   "source": [
    "# predecimos en test y evaluamos métricas y vemos la matriz de confusión\n",
    "\n",
    "predict3 = gbc_best.predict(X_test3)\n",
    "print(classification_report(y_test3, predict3))\n",
    "\n",
    "conf_matrix3 = confusion_matrix(y_test3, predict3)\n",
    "print(conf_matrix3)\n",
    "ax = sns.heatmap(conf_matrix3, annot= True)\n",
    "ax.set_title('Confusion Matrix')\n",
    "ax.set_xlabel('Predicted label')\n",
    "ax.set_ylabel('True label')\n",
    "m = ['No-Use','Long-term','Short-term']\n",
    "ax.set_xticklabels(m);\n",
    "ax.set_yticklabels(m);"
   ]
  },
  {
   "cell_type": "markdown",
   "metadata": {},
   "source": [
    "##### Vemos la importancia de las características según Gradient Boosting"
   ]
  },
  {
   "cell_type": "code",
   "execution_count": null,
   "metadata": {
    "colab": {
     "base_uri": "https://localhost:8080/",
     "height": 314
    },
    "executionInfo": {
     "elapsed": 562,
     "status": "ok",
     "timestamp": 1620506068903,
     "user": {
      "displayName": "Emma Amorós",
      "photoUrl": "",
      "userId": "13473672011848262140"
     },
     "user_tz": -120
    },
    "id": "bpZWOwGXh9IC",
    "outputId": "64e8892a-eff6-4847-c0aa-45c7c8a36581"
   },
   "outputs": [
    {
     "data": {
      "text/html": [
       "<div>\n",
       "<style scoped>\n",
       "    .dataframe tbody tr th:only-of-type {\n",
       "        vertical-align: middle;\n",
       "    }\n",
       "\n",
       "    .dataframe tbody tr th {\n",
       "        vertical-align: top;\n",
       "    }\n",
       "\n",
       "    .dataframe thead th {\n",
       "        text-align: right;\n",
       "    }\n",
       "</style>\n",
       "<table border=\"1\" class=\"dataframe\">\n",
       "  <thead>\n",
       "    <tr style=\"text-align: right;\">\n",
       "      <th></th>\n",
       "      <th>Feature</th>\n",
       "      <th>Importancia</th>\n",
       "    </tr>\n",
       "  </thead>\n",
       "  <tbody>\n",
       "    <tr>\n",
       "      <th>3</th>\n",
       "      <td>Children</td>\n",
       "      <td>0.365880</td>\n",
       "    </tr>\n",
       "    <tr>\n",
       "      <th>0</th>\n",
       "      <td>Age</td>\n",
       "      <td>0.354410</td>\n",
       "    </tr>\n",
       "    <tr>\n",
       "      <th>1</th>\n",
       "      <td>Education</td>\n",
       "      <td>0.145564</td>\n",
       "    </tr>\n",
       "    <tr>\n",
       "      <th>4</th>\n",
       "      <td>Living_index</td>\n",
       "      <td>0.043170</td>\n",
       "    </tr>\n",
       "    <tr>\n",
       "      <th>2</th>\n",
       "      <td>Husband_education</td>\n",
       "      <td>0.037321</td>\n",
       "    </tr>\n",
       "    <tr>\n",
       "      <th>6</th>\n",
       "      <td>Husband_work_1</td>\n",
       "      <td>0.022779</td>\n",
       "    </tr>\n",
       "    <tr>\n",
       "      <th>8</th>\n",
       "      <td>Husband_work_3</td>\n",
       "      <td>0.011320</td>\n",
       "    </tr>\n",
       "    <tr>\n",
       "      <th>7</th>\n",
       "      <td>Husband_work_2</td>\n",
       "      <td>0.010103</td>\n",
       "    </tr>\n",
       "    <tr>\n",
       "      <th>5</th>\n",
       "      <td>Media_exposure</td>\n",
       "      <td>0.009454</td>\n",
       "    </tr>\n",
       "  </tbody>\n",
       "</table>\n",
       "</div>"
      ],
      "text/plain": [
       "             Feature  Importancia\n",
       "3           Children     0.365880\n",
       "0                Age     0.354410\n",
       "1          Education     0.145564\n",
       "4       Living_index     0.043170\n",
       "2  Husband_education     0.037321\n",
       "6     Husband_work_1     0.022779\n",
       "8     Husband_work_3     0.011320\n",
       "7     Husband_work_2     0.010103\n",
       "5     Media_exposure     0.009454"
      ]
     },
     "execution_count": 12,
     "metadata": {
      "tags": []
     },
     "output_type": "execute_result"
    }
   ],
   "source": [
    "# se basa en la entropía para obtener las características \n",
    "\n",
    "importances = pd.DataFrame({'Feature': X_train3.columns, 'Importancia': gbc_best.feature_importances_ })\n",
    "importances = importances.sort_values(by = ['Importancia'], ascending = False)\n",
    "importances"
   ]
  },
  {
   "cell_type": "code",
   "execution_count": null,
   "metadata": {
    "colab": {
     "base_uri": "https://localhost:8080/",
     "height": 312
    },
    "executionInfo": {
     "elapsed": 679,
     "status": "ok",
     "timestamp": 1620506093257,
     "user": {
      "displayName": "Emma Amorós",
      "photoUrl": "",
      "userId": "13473672011848262140"
     },
     "user_tz": -120
    },
    "id": "Hvcz6-MBryvk",
    "outputId": "398daf4e-deea-4e1b-fa2d-e79a0462db5e"
   },
   "outputs": [
    {
     "data": {
      "text/plain": [
       "Text(0.5, 1.0, 'Importancia características')"
      ]
     },
     "execution_count": 14,
     "metadata": {
      "tags": []
     },
     "output_type": "execute_result"
    },
    {
     "data": {
      "image/png": "[encoded data removed]",
      "text/plain": [
       "<Figure size 432x288 with 1 Axes>"
      ]
     },
     "metadata": {
      "needs_background": "light",
      "tags": []
     },
     "output_type": "display_data"
    }
   ],
   "source": [
    "ax = sns.barplot(data = importances, x= 'Importancia', y= 'Feature', palette=\"rocket\", ci = None)\n",
    "ax.set_title(\"Importancia características\")"
   ]
  },
  {
   "cell_type": "markdown",
   "metadata": {
    "id": "5syf0Weiy541"
   },
   "source": [
    "# Modelo con votación"
   ]
  },
  {
   "cell_type": "markdown",
   "metadata": {
    "id": "iOQP9L8u2wEC"
   },
   "source": [
    "La idea detrás del VotingClassifier \n",
    "es combinar clasificadores de aprendizaje automático conceptualmente diferentes y usar un voto mayoritario o las probabilidades promedio predichas (voto suave) para predecir las etiquetas de clase.\n",
    "\n",
    "En la votación por mayoría, la etiqueta de clase predicha para una muestra particular es la etiqueta de clase que representa la mayoría (modo) de las etiquetas de clase predichas por cada clasificador individual.\n",
    "\n",
    "En los casos de empate, VotingClassifierseleccionará la clase en función del orden de clasificación ascendente. "
   ]
  },
  {
   "cell_type": "code",
   "execution_count": null,
   "metadata": {
    "id": "n7nQuE0d7HOb"
   },
   "outputs": [],
   "source": [
    "from sklearn.model_selection import cross_val_score\n",
    "from sklearn.ensemble import VotingClassifier"
   ]
  },
  {
   "cell_type": "markdown",
   "metadata": {},
   "source": [
    "Los clasificadores que vamos a emplear están definidos con los hiperparámetros que nos ha dado la búsqueda del GridSearch. "
   ]
  },
  {
   "cell_type": "code",
   "execution_count": null,
   "metadata": {
    "id": "tSc7Crsq7Zhv"
   },
   "outputs": [],
   "source": [
    "# definimos los clasificadores que vamos a emplear\n",
    "\n",
    "clf1 = GradientBoostingClassifier(ccp_alpha=0.0, criterion='friedman_mse', init=None,\n",
    "                           learning_rate=0.2, loss='deviance', max_depth=3,\n",
    "                           max_features=None, max_leaf_nodes=None,\n",
    "                           min_impurity_decrease=0.0, min_impurity_split=None,\n",
    "                           min_samples_leaf=1, min_samples_split=2,\n",
    "                           min_weight_fraction_leaf=0.0, n_estimators=50,\n",
    "                           n_iter_no_change=None, presort='deprecated',\n",
    "                           random_state=0, subsample=1.0, tol=0.0001,\n",
    "                           validation_fraction=0.1, verbose=0,\n",
    "                           warm_start=False)\n",
    "clf2 = RandomForestClassifier(bootstrap=True, ccp_alpha=0.0, class_weight=None,\n",
    "                       criterion='gini', max_depth=4, max_features='auto',\n",
    "                       max_leaf_nodes=None, max_samples=None,\n",
    "                       min_impurity_decrease=0.0, min_impurity_split=None,\n",
    "                       min_samples_leaf=1, min_samples_split=2,\n",
    "                       min_weight_fraction_leaf=0.0, n_estimators=150,\n",
    "                       n_jobs=None, oob_score=False, random_state=0, verbose=0,\n",
    "                       warm_start=False)\n",
    "clf3 = AdaBoostClassifier(algorithm='SAMME.R', base_estimator=None, learning_rate=0.2,\n",
    "                   n_estimators=50, random_state=0)"
   ]
  },
  {
   "cell_type": "code",
   "execution_count": null,
   "metadata": {
    "colab": {
     "base_uri": "https://localhost:8080/"
    },
    "executionInfo": {
     "elapsed": 6208,
     "status": "ok",
     "timestamp": 1620467073978,
     "user": {
      "displayName": "Emma Amorós",
      "photoUrl": "",
      "userId": "13473672011848262140"
     },
     "user_tz": -120
    },
    "id": "0k-CH1bS7Zkx",
    "outputId": "dbe2ccbd-3134-4a21-994f-e6700f941f96"
   },
   "outputs": [
    {
     "name": "stdout",
     "output_type": "stream",
     "text": [
      "Accuracy: 0.56 (+/- 0.02) [GradientBoostingClassifier]\n",
      "Accuracy: 0.56 (+/- 0.03) [Random Forest]\n",
      "Accuracy: 0.56 (+/- 0.03) [Ada Boost]\n",
      "Accuracy: 0.57 (+/- 0.03) [Ensemble]\n"
     ]
    }
   ],
   "source": [
    "eclf = VotingClassifier(estimators=[('lr', clf1), ('rf', clf2), ('ada', clf3)],\n",
    "     voting='hard')\n",
    "\n",
    "for clf, label in zip([clf1, clf2, clf3, eclf], ['GradientBoostingClassifier', 'Random Forest', 'Ada Boost', 'Ensemble']):\n",
    "  scores = cross_val_score(clf, X_train3, y_train3, scoring='accuracy', cv=5)\n",
    "  print(\"Accuracy: %0.2f (+/- %0.2f) [%s]\" % (scores.mean(), scores.std(), label))"
   ]
  },
  {
   "cell_type": "code",
   "execution_count": null,
   "metadata": {
    "colab": {
     "base_uri": "https://localhost:8080/",
     "height": 500
    },
    "executionInfo": {
     "elapsed": 1431,
     "status": "ok",
     "timestamp": 1620467076721,
     "user": {
      "displayName": "Emma Amorós",
      "photoUrl": "",
      "userId": "13473672011848262140"
     },
     "user_tz": -120
    },
    "id": "Mz4zejdp-X3q",
    "outputId": "e7c00b5c-f281-4ac2-c9c8-d96e681c9e5f"
   },
   "outputs": [
    {
     "name": "stdout",
     "output_type": "stream",
     "text": [
      "              precision    recall  f1-score   support\n",
      "\n",
      "           1       0.74      0.64      0.69       131\n",
      "           2       0.54      0.28      0.37        79\n",
      "           3       0.42      0.69      0.52        85\n",
      "\n",
      "    accuracy                           0.56       295\n",
      "   macro avg       0.57      0.54      0.53       295\n",
      "weighted avg       0.59      0.56      0.55       295\n",
      "\n",
      "[[84  9 38]\n",
      " [13 22 44]\n",
      " [16 10 59]]\n"
     ]
    },
    {
     "data": {
      "text/plain": [
       "<matplotlib.axes._subplots.AxesSubplot at 0x7f741ca26ed0>"
      ]
     },
     "execution_count": 50,
     "metadata": {
      "tags": []
     },
     "output_type": "execute_result"
    },
    {
     "data": {
      "image/png": "[encoded data removed]",
      "text/plain": [
       "<Figure size 432x288 with 2 Axes>"
      ]
     },
     "metadata": {
      "needs_background": "light",
      "tags": []
     },
     "output_type": "display_data"
    }
   ],
   "source": [
    "eclf_hard = eclf.fit(X_train3, y_train3)\n",
    "\n",
    "# predecimos en test y evaluamos métricas y vemos la matriz de confusión\n",
    "\n",
    "predict = eclf_hard.predict(X_test3)\n",
    "print(classification_report(y_test3, predict))\n",
    "\n",
    "conf_matrix = confusion_matrix(y_test3, predict)\n",
    "print(conf_matrix)\n",
    "sns.heatmap(conf_matrix, annot= True)"
   ]
  },
  {
   "cell_type": "code",
   "execution_count": null,
   "metadata": {},
   "outputs": [],
   "source": [
    "eclf2 = VotingClassifier(estimators=[('lr', clf1), ('rf', clf2), ('ada', clf3)],\n",
    "     voting='soft')\n",
    "\n",
    "for clf, label in zip([clf1, clf2, clf3, eclf], ['GradientBoostingClassifier', 'Random Forest', 'Ada Boost', 'Ensemble']):\n",
    "  scores = cross_val_score(clf, X_train3, y_train3, scoring='accuracy', cv=5)\n",
    "  print(\"Accuracy: %0.2f (+/- %0.2f) [%s]\" % (scores.mean(), scores.std(), label))"
   ]
  },
  {
   "cell_type": "code",
   "execution_count": null,
   "metadata": {
    "colab": {
     "base_uri": "https://localhost:8080/",
     "height": 500
    },
    "executionInfo": {
     "elapsed": 1306,
     "status": "ok",
     "timestamp": 1620467059505,
     "user": {
      "displayName": "Emma Amorós",
      "photoUrl": "",
      "userId": "13473672011848262140"
     },
     "user_tz": -120
    },
    "id": "xwvjgV6uxoKq",
    "outputId": "19b2cd06-f926-45d1-9980-ee58fc967aef"
   },
   "outputs": [
    {
     "name": "stdout",
     "output_type": "stream",
     "text": [
      "              precision    recall  f1-score   support\n",
      "\n",
      "           1       0.70      0.63      0.67       131\n",
      "           2       0.58      0.28      0.38        79\n",
      "           3       0.42      0.68      0.52        85\n",
      "\n",
      "    accuracy                           0.55       295\n",
      "   macro avg       0.57      0.53      0.52       295\n",
      "weighted avg       0.59      0.55      0.55       295\n",
      "\n",
      "[[83  4 44]\n",
      " [20 22 37]\n",
      " [15 12 58]]\n"
     ]
    },
    {
     "data": {
      "text/plain": [
       "<matplotlib.axes._subplots.AxesSubplot at 0x7f741cc18610>"
      ]
     },
     "execution_count": 48,
     "metadata": {
      "tags": []
     },
     "output_type": "execute_result"
    },
    {
     "data": {
      "image/png": "[encoded data removed]",
      "text/plain": [
       "<Figure size 432x288 with 2 Axes>"
      ]
     },
     "metadata": {
      "needs_background": "light",
      "tags": []
     },
     "output_type": "display_data"
    }
   ],
   "source": [
    "eclf_soft3 = eclf2.fit(X_train3, y_train3)\n",
    "\n",
    "# predecimos en test y evaluamos métricas y vemos la matriz de confusión\n",
    "\n",
    "predict3 = eclf_soft3.predict(X_test3)\n",
    "print(classification_report(y_test3, predict3))\n",
    "\n",
    "conf_matrix3 = confusion_matrix(y_test3, predict3)\n",
    "print(conf_matrix3)\n",
    "sns.heatmap(conf_matrix3, annot= True)"
   ]
  },
  {
   "cell_type": "markdown",
   "metadata": {
    "id": "MlfscolFXQXP"
   },
   "source": [
    "## Conclusiones"
   ]
  },
  {
   "cell_type": "markdown",
   "metadata": {},
   "source": [
    "A la vista de los resultados obtenidos, vemos que el mejor modelo para clasificar se corresponde con el Gradient Boosting. "
   ]
  }
 ],
 "metadata": {
  "colab": {
   "authorship_tag": "ABX9TyPEiFpTOePpembTH2VnBmm0",
   "collapsed_sections": [],
   "name": "Contraceptive_Modelos.ipynb",
   "provenance": [],
   "toc_visible": true
  },
  "kernelspec": {
   "display_name": "Python 3",
   "language": "python",
   "name": "python3"
  },
  "language_info": {
   "codemirror_mode": {
    "name": "ipython",
    "version": 3
   },
   "file_extension": ".py",
   "mimetype": "text/x-python",
   "name": "python",
   "nbconvert_exporter": "python",
   "pygments_lexer": "ipython3",
   "version": "3.8.3"
  }
 },
 "nbformat": 4,
 "nbformat_minor": 1
}
